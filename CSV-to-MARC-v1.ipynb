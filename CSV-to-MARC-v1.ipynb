{
 "cells": [
  {
   "cell_type": "code",
   "execution_count": 505,
   "metadata": {},
   "outputs": [],
   "source": [
    "# Import statements \n",
    "import sys\n",
    "sys.path.append(\"/home/dsu/python_libs/open-tamil\")\n",
    "\n",
    "import csv\n",
    "import tamil\n",
    "import pandas as pd\n",
    "from pymarc import XMLWriter, Record, Field\n",
    "from transliterate import azhagi, jaffna, combinational, UOM, ISO, itrans, algorithm"
   ]
  },
  {
   "cell_type": "code",
   "execution_count": 506,
   "metadata": {},
   "outputs": [],
   "source": [
    "# Set up of ISO table, MARC writer, and csv file to be read\n",
    "ISO_table = ISO.ReverseTransliteration.table\n",
    "writer = XMLWriter(open('output.xml','wb'))\n",
    "csv_data = pd.read_csv('full_example.csv')"
   ]
  },
  {
   "cell_type": "code",
   "execution_count": 507,
   "metadata": {},
   "outputs": [],
   "source": [
    "def get_code(title: str) -> str:\n",
    "    \"\"\" Returns the letter code for a \n",
    "    subfield given the title of the csv\n",
    "    column. Returns 'a' if no code is\n",
    "    found. \"\"\"\n",
    "    \n",
    "    # Find index of $\n",
    "    i = title.find('$')\n",
    "    \n",
    "    # Return letter following $ if it exists,\n",
    "    # assume 'a' otherwise\n",
    "    if i == -1: return '!'\n",
    "    else: return title[i+1]"
   ]
  },
  {
   "cell_type": "code",
   "execution_count": 508,
   "metadata": {},
   "outputs": [],
   "source": [
    "def get_tag(title: str) -> str:\n",
    "    \"\"\" Returns the tag for a record\n",
    "    given the title of the csv\n",
    "    column. Returns 'None' if there\n",
    "    is no title. \"\"\"\n",
    "    \n",
    "    # Check if title exists\n",
    "    if title == 'nan':\n",
    "        # Return 'None' if none exists\n",
    "        return \"None\"\n",
    "    else:\n",
    "        # If title is found, get indexes of\n",
    "        # first space and slash\n",
    "        i = title.find(' ')\n",
    "        j = title.find('/')\n",
    "        \n",
    "        # If no space and no slash is found\n",
    "        if i == -1 and j == -1:\n",
    "            # Return the entire title\n",
    "            return title\n",
    "        # If no space and a slash is found\n",
    "        elif i == -1 and j != -1:\n",
    "            # Return value up to slash\n",
    "            return title[:j]\n",
    "        # Otherwise there is a space\n",
    "        else:\n",
    "            # Return tag up to space\n",
    "            return title[:i]"
   ]
  },
  {
   "cell_type": "code",
   "execution_count": 509,
   "metadata": {},
   "outputs": [],
   "source": [
    "def get_transliterated(content: str) -> str:\n",
    "    \"\"\" Returns the transliterated\n",
    "    content string. \"\"\"\n",
    "    \n",
    "    # Use open-tamil algorithim to transliterate\n",
    "    return algorithm.Direct.transliterate(ISO_table, content)"
   ]
  },
  {
   "cell_type": "code",
   "execution_count": 510,
   "metadata": {},
   "outputs": [],
   "source": [
    "def get_subfield_array(content: str, category: str, title: str) -> list:\n",
    "    \"\"\" Returns an array with subfield codes\n",
    "    and data, given the column category, title,\n",
    "    and cell content. Tamil content will be\n",
    "    transliterated. \"\"\"\n",
    "    \n",
    "    # Create array to be returned\n",
    "    subfield_array = []\n",
    "    \n",
    "    # Check if content exists\n",
    "    if ('---' in content) or (content == 'nan'):\n",
    "        # If it does not exist, return no subfields\n",
    "        return subfield_array\n",
    "    else:\n",
    "        # If it does exist, get subfield code\n",
    "        sub_code = get_code(title)\n",
    "        # Create array with sub code and content\n",
    "        subfield_array = [sub_code, content]\n",
    "        \n",
    "        # Get transliterated data from open-tamil\n",
    "        if \"(Tamil)\" in category:\n",
    "            subfield_array.append(sub_code + \"t\")\n",
    "            subfield_array.append(get_transliterated(content))\n",
    "    \n",
    "    # Return array\n",
    "    return subfield_array"
   ]
  },
  {
   "cell_type": "code",
   "execution_count": 511,
   "metadata": {},
   "outputs": [],
   "source": [
    "def get_record_dict(row) -> dict:\n",
    "    \"\"\"Returns a dictionary\n",
    "    mapping tags to subfields.\"\"\"\n",
    "    \n",
    "    # Create dictionary\n",
    "    record_dict = {}\n",
    "    \n",
    "    # Loop through each column\n",
    "    for category, col in csv_data.iteritems(): \n",
    "        # Get title, content, and tag\n",
    "        title = str(col[0])\n",
    "        content = str(row[category])\n",
    "        key = get_tag(title)\n",
    "\n",
    "        # Create subfield arrary\n",
    "        sub_array = get_subfield_array(content, category, title)\n",
    "\n",
    "        # Check if tag exists\n",
    "        if key != 'None':\n",
    "            # Check if tag is already in dictionary\n",
    "            if key in record_dict:\n",
    "                # If tag is in dictionary, update subfield array\n",
    "                record_dict[key] = record_dict[key] + sub_array\n",
    "            else:\n",
    "                # If tag is not in dictionary, add subfield array to dictionary\n",
    "                record_dict[key] = sub_array\n",
    "                \n",
    "    return record_dict"
   ]
  },
  {
   "cell_type": "code",
   "execution_count": 512,
   "metadata": {},
   "outputs": [],
   "source": [
    "def generate_xml() -> None:\n",
    "    \"\"\"Generates MARC xml file from csv file,\n",
    "    using the pymarc library\"\"\"\n",
    "    \n",
    "    # Loop through rows (records) of csv\n",
    "    for i, row in csv_data.iterrows():\n",
    "        # Skip first row (title row)\n",
    "        if i != 0:\n",
    "            # Create new record\n",
    "            record = Record()\n",
    "            print(\"[Getting data from CSV...]\")\n",
    "            record_dict = get_record_dict(row)\n",
    "\n",
    "            # Loop through tags in dictionary\n",
    "            print(\"[Creating subfields...]\")\n",
    "            for col_tag in record_dict:\n",
    "                # Add record to XML\n",
    "                record.add_field(\n",
    "                    Field(\n",
    "                        tag = col_tag,\n",
    "                        indicators = ['0','1'],\n",
    "                        subfields = record_dict[col_tag]\n",
    "                    )\n",
    "                )\n",
    "            # Write record to XML\n",
    "            writer.write(record)\n",
    "    \n",
    "    # Close writer\n",
    "    writer.close()"
   ]
  },
  {
   "cell_type": "code",
   "execution_count": 513,
   "metadata": {},
   "outputs": [
    {
     "name": "stdout",
     "output_type": "stream",
     "text": [
      "[Getting data from CSV...]\n",
      "[Creating subfields...]\n",
      "[Getting data from CSV...]\n",
      "[Creating subfields...]\n",
      "[Getting data from CSV...]\n",
      "[Creating subfields...]\n",
      "[Getting data from CSV...]\n",
      "[Creating subfields...]\n",
      "[Getting data from CSV...]\n",
      "[Creating subfields...]\n",
      "[Getting data from CSV...]\n",
      "[Creating subfields...]\n",
      "[Getting data from CSV...]\n",
      "[Creating subfields...]\n"
     ]
    }
   ],
   "source": [
    "# Run function\n",
    "generate_xml()"
   ]
  },
  {
   "cell_type": "code",
   "execution_count": null,
   "metadata": {},
   "outputs": [],
   "source": []
  }
 ],
 "metadata": {
  "kernelspec": {
   "display_name": "Python 3",
   "language": "python",
   "name": "python3"
  },
  "language_info": {
   "codemirror_mode": {
    "name": "ipython",
    "version": 3
   },
   "file_extension": ".py",
   "mimetype": "text/x-python",
   "name": "python",
   "nbconvert_exporter": "python",
   "pygments_lexer": "ipython3",
   "version": "3.7.7"
  }
 },
 "nbformat": 4,
 "nbformat_minor": 2
}
